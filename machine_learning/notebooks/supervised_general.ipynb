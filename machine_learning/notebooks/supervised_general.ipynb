{
 "cells": [
  {
   "cell_type": "code",
   "execution_count": 1,
   "metadata": {},
   "outputs": [],
   "source": [
    "import pandas as pd\n",
    "import numpy as np"
   ]
  },
  {
   "cell_type": "code",
   "execution_count": 2,
   "metadata": {},
   "outputs": [
    {
     "data": {
      "text/html": [
       "<div>\n",
       "<style scoped>\n",
       "    .dataframe tbody tr th:only-of-type {\n",
       "        vertical-align: middle;\n",
       "    }\n",
       "\n",
       "    .dataframe tbody tr th {\n",
       "        vertical-align: top;\n",
       "    }\n",
       "\n",
       "    .dataframe thead th {\n",
       "        text-align: right;\n",
       "    }\n",
       "</style>\n",
       "<table border=\"1\" class=\"dataframe\">\n",
       "  <thead>\n",
       "    <tr style=\"text-align: right;\">\n",
       "      <th></th>\n",
       "      <th>Age</th>\n",
       "      <th>Physical Activity Level</th>\n",
       "      <th>Heart Rate</th>\n",
       "      <th>BMI</th>\n",
       "      <th>Systolic</th>\n",
       "      <th>Diastolic</th>\n",
       "      <th>glucose_levels</th>\n",
       "      <th>Complication</th>\n",
       "    </tr>\n",
       "  </thead>\n",
       "  <tbody>\n",
       "    <tr>\n",
       "      <th>0</th>\n",
       "      <td>29</td>\n",
       "      <td>40</td>\n",
       "      <td>80</td>\n",
       "      <td>69.59</td>\n",
       "      <td>132</td>\n",
       "      <td>87</td>\n",
       "      <td>7.8</td>\n",
       "      <td>1</td>\n",
       "    </tr>\n",
       "    <tr>\n",
       "      <th>1</th>\n",
       "      <td>30</td>\n",
       "      <td>35</td>\n",
       "      <td>78</td>\n",
       "      <td>78.03</td>\n",
       "      <td>130</td>\n",
       "      <td>86</td>\n",
       "      <td>8.0</td>\n",
       "      <td>1</td>\n",
       "    </tr>\n",
       "    <tr>\n",
       "      <th>2</th>\n",
       "      <td>31</td>\n",
       "      <td>75</td>\n",
       "      <td>69</td>\n",
       "      <td>46.95</td>\n",
       "      <td>117</td>\n",
       "      <td>76</td>\n",
       "      <td>6.8</td>\n",
       "      <td>0</td>\n",
       "    </tr>\n",
       "    <tr>\n",
       "      <th>3</th>\n",
       "      <td>33</td>\n",
       "      <td>50</td>\n",
       "      <td>76</td>\n",
       "      <td>67.57</td>\n",
       "      <td>128</td>\n",
       "      <td>85</td>\n",
       "      <td>7.1</td>\n",
       "      <td>1</td>\n",
       "    </tr>\n",
       "    <tr>\n",
       "      <th>4</th>\n",
       "      <td>34</td>\n",
       "      <td>32</td>\n",
       "      <td>81</td>\n",
       "      <td>75.99</td>\n",
       "      <td>131</td>\n",
       "      <td>86</td>\n",
       "      <td>6.9</td>\n",
       "      <td>1</td>\n",
       "    </tr>\n",
       "  </tbody>\n",
       "</table>\n",
       "</div>"
      ],
      "text/plain": [
       "   Age  Physical Activity Level  Heart Rate    BMI  Systolic  Diastolic  \\\n",
       "0   29                       40          80  69.59       132         87   \n",
       "1   30                       35          78  78.03       130         86   \n",
       "2   31                       75          69  46.95       117         76   \n",
       "3   33                       50          76  67.57       128         85   \n",
       "4   34                       32          81  75.99       131         86   \n",
       "\n",
       "   glucose_levels  Complication  \n",
       "0             7.8             1  \n",
       "1             8.0             1  \n",
       "2             6.8             0  \n",
       "3             7.1             1  \n",
       "4             6.9             1  "
      ]
     },
     "execution_count": 2,
     "metadata": {},
     "output_type": "execute_result"
    }
   ],
   "source": [
    "df = pd.read_csv('../data/Not Pregnant and Not Expecting Refined.csv')\n",
    "df.head()"
   ]
  },
  {
   "cell_type": "code",
   "execution_count": 3,
   "metadata": {},
   "outputs": [
    {
     "name": "stdout",
     "output_type": "stream",
     "text": [
      "Accuracy: 0.9090909090909091\n",
      "Classification Report:\n",
      "               precision    recall  f1-score   support\n",
      "\n",
      "           0       1.00      0.83      0.91         6\n",
      "           1       0.83      1.00      0.91         5\n",
      "\n",
      "    accuracy                           0.91        11\n",
      "   macro avg       0.92      0.92      0.91        11\n",
      "weighted avg       0.92      0.91      0.91        11\n",
      "\n"
     ]
    }
   ],
   "source": [
    "from sklearn.model_selection import train_test_split\n",
    "from sklearn.ensemble import RandomForestClassifier\n",
    "from sklearn.metrics import classification_report, accuracy_score\n",
    "\n",
    "# Independent variables\n",
    "X = df.drop(['Complication'], axis=1)\n",
    "\n",
    "# Dependent variable (target)\n",
    "y = df['Complication']\n",
    "\n",
    "# Split notpe into training and test sets\n",
    "X_train, X_test, y_train, y_test = train_test_split(X, y, test_size=0.2, random_state=42)\n",
    "\n",
    "# Initialize the Random Forest Classifier\n",
    "rf_model = RandomForestClassifier(n_estimators=100, random_state=42)\n",
    "\n",
    "# Train the model\n",
    "rf_model.fit(X_train, y_train)\n",
    "\n",
    "# Make predictions\n",
    "y_pred = rf_model.predict(X_test)\n",
    "\n",
    "# Evaluate the model\n",
    "print(\"Accuracy:\", accuracy_score(y_test, y_pred))\n",
    "print(\"Classification Report:\\n\", classification_report(y_test, y_pred))"
   ]
  },
  {
   "cell_type": "code",
   "execution_count": null,
   "metadata": {},
   "outputs": [],
   "source": []
  }
 ],
 "metadata": {
  "kernelspec": {
   "display_name": "Python 3",
   "language": "python",
   "name": "python3"
  },
  "language_info": {
   "codemirror_mode": {
    "name": "ipython",
    "version": 3
   },
   "file_extension": ".py",
   "mimetype": "text/x-python",
   "name": "python",
   "nbconvert_exporter": "python",
   "pygments_lexer": "ipython3",
   "version": "3.12.2"
  }
 },
 "nbformat": 4,
 "nbformat_minor": 2
}
